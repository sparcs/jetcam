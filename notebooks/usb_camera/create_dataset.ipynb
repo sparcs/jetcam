{
 "cells": [
  {
   "cell_type": "markdown",
   "id": "revolutionary-sword",
   "metadata": {},
   "source": [
    "# Create Dataset"
   ]
  },
  {
   "cell_type": "markdown",
   "id": "dependent-principle",
   "metadata": {},
   "source": [
    "An example illustrating the creation of an image dataset using `jetcam`. \n",
    "\n",
    "The goal is to create a dataset containing images of people categorised into two labels based on whether they are looking into the camera or not. \n",
    "\n",
    "Run the cells of the notebook until the widgets appear. The widgets output cell may be opened in a new view in jupyter lab for a cleaner interface. \n",
    "\n",
    "To start capturing images, first review and update the camera settings (if required) and click on `Connect Camera` to instantiate the camera. From then on, the camera's view can be toggled using the `Live Camera` / `Stop` buttons.\n",
    "\n",
    "The `Category` and `Session Label` inputs, together with the root folder specified in `Data Folder`, decide the destination folder for the captured images. The session label is optional. It allows the curator to cluster photos from different sessions into separate folders within each category. \n",
    "\n",
    "The `Save Image` button saves the current image when the camera is live, whereas it saves the image at the time of stopping video when the camera view is stopped.\n",
    "\n",
    "The camera can be freed when the notebook kernel is shutdown."
   ]
  },
  {
   "cell_type": "code",
   "execution_count": null,
   "id": "japanese-technology",
   "metadata": {},
   "outputs": [],
   "source": [
    "import os\n",
    "from time import strftime, gmtime\n",
    "import traitlets\n",
    "from ipywidgets import Dropdown, Button, Text, Image, VBox, HBox, Label, ToggleButtons, IntText, GridspecLayout, HTML\n",
    "from IPython.display import display\n",
    "from pathlib import Path\n",
    "\n",
    "import cv2\n",
    "\n",
    "from jetcam.usb_camera import USBCamera\n",
    "from jetcam.utils import bgr8_to_jpeg"
   ]
  },
  {
   "cell_type": "code",
   "execution_count": null,
   "id": "productive-persian",
   "metadata": {},
   "outputs": [],
   "source": [
    "def grid(widgets, labels, **kwargs):\n",
    "    rows = len(widgets)\n",
    "    grid = GridspecLayout(rows, 2, **kwargs)\n",
    "    for i in range(rows):\n",
    "        grid[i, 0] = Label(labels[i])\n",
    "        grid[i, 1] = widgets[i]\n",
    "    return grid"
   ]
  },
  {
   "cell_type": "markdown",
   "id": "about-energy",
   "metadata": {},
   "source": [
    "### Create Widgets"
   ]
  },
  {
   "cell_type": "code",
   "execution_count": null,
   "id": "indie-palestinian",
   "metadata": {},
   "outputs": [],
   "source": [
    "camera = None\n",
    "API_PREFS = [('Any', cv2.CAP_ANY), \n",
    "             ('Gstreamer', cv2.CAP_GSTREAMER)]\n",
    "CATEGORY_LABELS = [('Seeing', 'see'), ('Looking Away', 'away')]"
   ]
  },
  {
   "cell_type": "code",
   "execution_count": null,
   "id": "worth-terminal",
   "metadata": {},
   "outputs": [],
   "source": [
    "# Left panel\n",
    "settings_header = HTML(value='<b>Camera Settings</b>')\n",
    "device_widget = IntText(value=0)\n",
    "api_pref_widget = Dropdown(options=API_PREFS)\n",
    "height_widget = IntText(value=480)\n",
    "width_widget = IntText(value=640)\n",
    "fps_widget = IntText(value=30)\n",
    "settings_widgets = [device_widget, api_pref_widget, height_widget, width_widget, fps_widget]\n",
    "settings_labels = ['Device', 'API Preference', 'Capture Height', 'Capture Width', 'FPS']\n",
    "settings_grid = grid(settings_widgets, settings_labels, width='450px')\n",
    "connect_widget = Button(description='Connect Camera')\n",
    "\n",
    "hr = HTML(value='<hr/>')\n",
    "\n",
    "data_folder_widget = Text(value='data', \n",
    "                          description_tooltip='Folder where data will be stored')\n",
    "category_widget = Dropdown(options=CATEGORY_LABELS)\n",
    "session_widget = Text(description_tooltip='Optional folder to group images in a session')\n",
    "data_info_grid = grid([data_folder_widget, category_widget, session_widget],\n",
    "                      ['Data Folder', 'Category', 'Session Label'],\n",
    "                      width='450px')\n",
    "camera_toggle = ToggleButtons(options=[('Live Camera', True), ('Stop', False)], \n",
    "                              value=False)\n",
    "\n",
    "left_panel = VBox([settings_header, settings_grid, connect_widget,\n",
    "                   hr,\n",
    "                   data_info_grid, camera_toggle])"
   ]
  },
  {
   "cell_type": "code",
   "execution_count": null,
   "id": "higher-plasma",
   "metadata": {},
   "outputs": [],
   "source": [
    "# Right panel\n",
    "camera_view_header = HTML('<b>Camera View</b>')\n",
    "camera_widget = Image(width=400, height=300, format='jpeg')\n",
    "\n",
    "save_image_button = Button(description='Save Image', tooltip='Click photo')\n",
    "right_panel = VBox([camera_widget, save_image_button])\n",
    "\n",
    "all_panels = HBox([left_panel, right_panel])"
   ]
  },
  {
   "cell_type": "code",
   "execution_count": null,
   "id": "fluid-attention",
   "metadata": {},
   "outputs": [],
   "source": [
    "def connect_camera(c):\n",
    "    global camera\n",
    "    if camera is not None:\n",
    "        camera.unobserve_all()\n",
    "        camera.release_camera()\n",
    "    camera = USBCamera(width=400,\n",
    "                       height=300,\n",
    "                       capture_height=height_widget.value,\n",
    "                       capture_width=width_widget.value,\n",
    "                       capture_fps=fps_widget.value,\n",
    "                       capture_device=device_widget.value)\n",
    "    traitlets.dlink((camera, 'value'), (camera_widget, 'value'), transform=bgr8_to_jpeg)\n",
    "connect_widget.on_click(connect_camera)\n",
    "\n",
    "def toggle_camera_view(change):\n",
    "    global camera\n",
    "    camera.running = change['new']\n",
    "camera_toggle.observe(toggle_camera_view, names='value')\n",
    "\n",
    "def create_image_path():\n",
    "    path = Path(data_folder_widget.value) / category_widget.value\n",
    "    if session_widget.value is not None:\n",
    "        path = path / session_widget.value\n",
    "    path.mkdir(parents=True, exist_ok=True)\n",
    "    return path\n",
    "\n",
    "def save_image(c):\n",
    "    file_name = strftime('%y%m%d%H%M%S.jpg', gmtime())\n",
    "    image_path = create_image_path() / file_name\n",
    "    cv2.imwrite(str(image_path.absolute()), camera.value)\n",
    "save_image_button.on_click(save_image)"
   ]
  },
  {
   "cell_type": "markdown",
   "id": "administrative-darkness",
   "metadata": {},
   "source": [
    "### View "
   ]
  },
  {
   "cell_type": "code",
   "execution_count": null,
   "id": "hourly-brave",
   "metadata": {},
   "outputs": [],
   "source": [
    "# Open the below output in a new view for a cleaner interface\n",
    "display(all_panels)"
   ]
  }
 ],
 "metadata": {
  "kernelspec": {
   "display_name": "Python 3",
   "language": "python",
   "name": "python3"
  },
  "language_info": {
   "codemirror_mode": {
    "name": "ipython",
    "version": 3
   },
   "file_extension": ".py",
   "mimetype": "text/x-python",
   "name": "python",
   "nbconvert_exporter": "python",
   "pygments_lexer": "ipython3",
   "version": "3.8.6"
  }
 },
 "nbformat": 4,
 "nbformat_minor": 5
}
