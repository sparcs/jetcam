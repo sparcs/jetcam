{
 "cells": [
  {
   "cell_type": "markdown",
   "id": "popular-prefix",
   "metadata": {},
   "source": [
    "# Create Dataset"
   ]
  },
  {
   "cell_type": "markdown",
   "id": "great-guide",
   "metadata": {},
   "source": [
    "Helps create a dataset of images captured using `jetcam`"
   ]
  },
  {
   "cell_type": "code",
   "execution_count": 1,
   "id": "acceptable-browser",
   "metadata": {},
   "outputs": [],
   "source": [
    "import os\n",
    "from time import strftime, gmtime\n",
    "import traitlets\n",
    "from ipywidgets import Dropdown, Button, Text, Image, VBox, HBox, Label, ToggleButtons, IntText, GridspecLayout, HTML\n",
    "from IPython.display import display\n",
    "from pathlib import Path\n",
    "\n",
    "import cv2\n",
    "\n",
    "from jetcam.usb_camera import USBCamera\n",
    "from jetcam.utils import bgr8_to_jpeg"
   ]
  },
  {
   "cell_type": "code",
   "execution_count": 2,
   "id": "received-intent",
   "metadata": {},
   "outputs": [],
   "source": [
    "!mkdir -p $data_dir_txt.value"
   ]
  },
  {
   "cell_type": "code",
   "execution_count": 3,
   "id": "environmental-programmer",
   "metadata": {},
   "outputs": [],
   "source": [
    "def grid(widgets, labels, **kwargs):\n",
    "    rows = len(widgets)\n",
    "    grid = GridspecLayout(rows, 2, **kwargs)\n",
    "    for i in range(rows):\n",
    "        grid[i, 0] = Label(labels[i])\n",
    "        grid[i, 1] = widgets[i]\n",
    "    return grid"
   ]
  },
  {
   "cell_type": "markdown",
   "id": "reasonable-marking",
   "metadata": {},
   "source": [
    "### Create Widgets"
   ]
  },
  {
   "cell_type": "code",
   "execution_count": 4,
   "id": "consolidated-holmes",
   "metadata": {},
   "outputs": [],
   "source": [
    "camera = None\n",
    "data_root_path = None\n",
    "API_PREFS = [('Any', cv2.CAP_ANY), \n",
    "             ('Gstreamer', cv2.CAP_GSTREAMER)]\n",
    "CATEGORY_LABELS = [('Seeing', 'see'), ('Looking Away', 'away')]"
   ]
  },
  {
   "cell_type": "code",
   "execution_count": 5,
   "id": "occasional-mixer",
   "metadata": {},
   "outputs": [],
   "source": [
    "# Left panel\n",
    "data_folder_widget = Text(value='data', description_tooltip='Folder where data will be stored')\n",
    "api_pref_widget = Dropdown(options=API_PREFS)\n",
    "height_widget = IntText(value=480)\n",
    "width_widget = IntText(value=640)\n",
    "fps_widget = IntText(value=30)\n",
    "settings_grid = grid([data_folder_widget, api_pref_widget, height_widget, width_widget, fps_widget],\n",
    "                     ['Data Folder', 'API Preference', 'Capture Height', 'Capture Width', 'FPS'],\n",
    "                     width='450px')\n",
    "settings_label = HTML(value='<b>Settings</b>')\n",
    "apply_settings_widget = Button(description='Apply Settings')\n",
    "\n",
    "hr = HTML(value='<hr/>')\n",
    "\n",
    "category_widget = Dropdown(options=CATEGORY_LABELS)\n",
    "session_widget = Text(description_tooltip='Optional folder to group images in a session')\n",
    "camera_toggle = ToggleButtons(options=[('Live Camera', True), ('Stop', False)], value=False)\n",
    "data_info_grid = grid([category_widget, session_widget],\n",
    "                      ['Category', 'Session Label'],\n",
    "                      width='450px')\n",
    "left_panel = VBox([settings_label, settings_grid, apply_settings_widget,\n",
    "                   hr,\n",
    "                   data_info_grid, camera_toggle])\n",
    "\n",
    "# Right panel\n",
    "camera_widget = Image(width=400, height=300, format='jpeg')\n",
    "\n",
    "save_image_button = Button(description='Save Image', tooltip='Click photo')\n",
    "right_panel = VBox([camera_widget, save_image_button])\n",
    "\n",
    "all_panels = HBox([left_panel, right_panel])"
   ]
  },
  {
   "cell_type": "code",
   "execution_count": 6,
   "id": "consistent-alpha",
   "metadata": {},
   "outputs": [],
   "source": [
    "def apply_settings(c):\n",
    "    global camera\n",
    "    global data_root_path\n",
    "    data_root_path = Path(data_folder_widget.value)\n",
    "    data_root_path.mkdir(exist_ok=True)\n",
    "    capture_height = height_widget.value\n",
    "    capture_width = width_widget.value\n",
    "    fps = fps_widget.value\n",
    "    if camera is not None:\n",
    "        camera.unobserve_all()\n",
    "        camera.release_camera()\n",
    "    camera = USBCamera(width=400,\n",
    "                       height=300,\n",
    "                       capture_height=capture_height,\n",
    "                       capture_width=capture_width,\n",
    "                       capture_fps=fps,\n",
    "                       capture_device=0)\n",
    "    traitlets.dlink((camera, 'value'), (camera_widget, 'value'), transform=bgr8_to_jpeg)\n",
    "apply_settings_widget.on_click(apply_settings)\n",
    "\n",
    "def camera_toggled(change):\n",
    "    global camera\n",
    "    if change['new']:\n",
    "        camera.running = True\n",
    "    else:\n",
    "        camera.running = False\n",
    "camera_toggle.observe(camera_toggled, names='value')\n",
    "\n",
    "def image_dir_path():\n",
    "    global data_root_path\n",
    "    path = data_root_path / category_widget.value\n",
    "    if session_widget.value is not None:\n",
    "        path = path / session_widget.value\n",
    "    path.mkdir(exist_ok=True)\n",
    "    return path\n",
    "\n",
    "def save_image(c):\n",
    "    file_name = strftime('%y%m%d%H%M%S.jpg', gmtime())\n",
    "    image_path = image_dir_path() / file_name\n",
    "    cv2.imwrite(str(image_path.absolute()), camera.value)\n",
    "save_image_button.on_click(save_image)"
   ]
  },
  {
   "cell_type": "code",
   "execution_count": 7,
   "id": "printable-interval",
   "metadata": {},
   "outputs": [
    {
     "data": {
      "application/vnd.jupyter.widget-view+json": {
       "model_id": "85bb1bd54f4042d08fbb971683938786",
       "version_major": 2,
       "version_minor": 0
      },
      "text/plain": [
       "HBox(children=(VBox(children=(HTML(value='<b>Settings</b>'), GridspecLayout(children=(Label(value='Data Folder…"
      ]
     },
     "metadata": {},
     "output_type": "display_data"
    }
   ],
   "source": [
    "display(all_panels)"
   ]
  },
  {
   "cell_type": "code",
   "execution_count": null,
   "id": "massive-rings",
   "metadata": {},
   "outputs": [],
   "source": []
  }
 ],
 "metadata": {
  "kernelspec": {
   "display_name": "Python 3",
   "language": "python",
   "name": "python3"
  },
  "language_info": {
   "codemirror_mode": {
    "name": "ipython",
    "version": 3
   },
   "file_extension": ".py",
   "mimetype": "text/x-python",
   "name": "python",
   "nbconvert_exporter": "python",
   "pygments_lexer": "ipython3",
   "version": "3.8.6"
  }
 },
 "nbformat": 4,
 "nbformat_minor": 5
}
